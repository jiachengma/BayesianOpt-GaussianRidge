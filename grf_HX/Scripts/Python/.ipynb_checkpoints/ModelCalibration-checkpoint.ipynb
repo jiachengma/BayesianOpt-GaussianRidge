{
 "cells": [
  {
   "cell_type": "markdown",
   "metadata": {},
   "source": [
    "# Bayesian optimization for calibrating transient vapor compression cycles"
   ]
  },
  {
   "cell_type": "code",
   "execution_count": 1,
   "metadata": {},
   "outputs": [],
   "source": [
    "def warn(*args, **kwargs):\n",
    "    pass\n",
    "import warnings\n",
    "warnings.warn = warn"
   ]
  },
  {
   "cell_type": "code",
   "execution_count": 2,
   "metadata": {},
   "outputs": [],
   "source": [
    "import numpy as np\n",
    "import matplotlib.pyplot as plt\n",
    "from simulateModel import simulateModel\n",
    "from BayOpt_GRF import BayOpt_GRF"
   ]
  },
  {
   "cell_type": "markdown",
   "metadata": {},
   "source": [
    "## Chiller"
   ]
  },
  {
   "cell_type": "code",
   "execution_count": 3,
   "metadata": {},
   "outputs": [],
   "source": [
    "# parameter bound\n",
    "lb = np.array([1233.3, 1233.3, 1233.3, 1365.4, 65573, 8867.3, 8867.3, 6118.9, 61943, 50])\n",
    "ub = np.array([123330, 123330, 123330, 136540, 196719, 886730, 886730, 611890, 247770, 150])\n",
    "\n",
    "model_path = \"\\\\nas01.itap.purdue.edu\\puhome\\My Documents\\Downloads\\DynamicVCC-issue2_JM\\DynamicVCC-issue2_JM\\DynamicVCC\\package.mo\"\n",
    "model = \"DynamicVCC.Examples.Chiller.Cycle\"\n",
    "startTime = 2000\n",
    "stopTime = 3500\n",
    "outputInterval = 10\n",
    "outputWeight = [1.] * 7\n",
    "outputWeight[4] = 5. # large weight for superheat\n",
    "simulation = simulateModel(model_path, model, startTime, stopTime, outputInterval, lb, ub, outputWeight)"
   ]
  },
  {
   "cell_type": "code",
   "execution_count": null,
   "metadata": {},
   "outputs": [],
   "source": [
    "# test simulation\n",
    "# u_test = [5e4, 8e4, 5e4, 2e4, 131146, 8e4, 5e4, 2e4, 123886.44, 100]\n",
    "# simulation.instantiate_dymola()\n",
    "# y_pred, y_mea= simulation.run_dymola(u_test)\n",
    "# simulation.close_dymola()"
   ]
  },
  {
   "cell_type": "markdown",
   "metadata": {},
   "source": [
    "### Generate samples for GRF "
   ]
  },
  {
   "cell_type": "code",
   "execution_count": null,
   "metadata": {
    "vscode": {
     "languageId": "plaintext"
    }
   },
   "outputs": [],
   "source": [
    "simulation.instantiate_dymola()\n",
    "n = 105\n",
    "save_path = 'results/chiller/YX_chiller.npz'\n",
    "simulation.generate_samples(n, save_path)\n",
    "simulation.close_dymola()"
   ]
  },
  {
   "cell_type": "markdown",
   "metadata": {},
   "source": [
    "### Discover GRF"
   ]
  },
  {
   "cell_type": "code",
   "execution_count": 4,
   "metadata": {},
   "outputs": [
    {
     "name": "stderr",
     "output_type": "stream",
     "text": [
      "C:\\Users\\ma516\\Anaconda3\\envs\\BayOpt\\lib\\site-packages\\pymanopt\\optimizers\\trust_regions.py:526: RuntimeWarning: invalid value encountered in double_scalars\n",
      "  tau = (\n"
     ]
    },
    {
     "name": "stdout",
     "output_type": "stream",
     "text": [
      "iteration 0:, error=0.561509098261445, E_var=0.8766540289579424\n"
     ]
    },
    {
     "name": "stderr",
     "output_type": "stream",
     "text": [
      "C:\\Users\\ma516\\Anaconda3\\envs\\BayOpt\\lib\\site-packages\\pymanopt\\optimizers\\trust_regions.py:526: RuntimeWarning: invalid value encountered in double_scalars\n",
      "  tau = (\n"
     ]
    },
    {
     "name": "stdout",
     "output_type": "stream",
     "text": [
      "iteration 1:, error=0.5629342642023677, E_var=0.8741314716783181\n"
     ]
    },
    {
     "name": "stderr",
     "output_type": "stream",
     "text": [
      "C:\\Users\\ma516\\Anaconda3\\envs\\BayOpt\\lib\\site-packages\\pymanopt\\optimizers\\trust_regions.py:526: RuntimeWarning: invalid value encountered in double_scalars\n",
      "  tau = (\n"
     ]
    },
    {
     "name": "stdout",
     "output_type": "stream",
     "text": [
      "iteration 2:, error=0.5629342642023677, E_var=0.8643427640121942\n"
     ]
    },
    {
     "name": "stderr",
     "output_type": "stream",
     "text": [
      "C:\\Users\\ma516\\Anaconda3\\envs\\BayOpt\\lib\\site-packages\\pymanopt\\optimizers\\trust_regions.py:526: RuntimeWarning: invalid value encountered in double_scalars\n",
      "  tau = (\n"
     ]
    },
    {
     "name": "stdout",
     "output_type": "stream",
     "text": [
      "iteration 3:, error=0.27028275063167934, E_var=0.5776417712478595\n"
     ]
    },
    {
     "name": "stderr",
     "output_type": "stream",
     "text": [
      "C:\\Users\\ma516\\Anaconda3\\envs\\BayOpt\\lib\\site-packages\\pymanopt\\optimizers\\trust_regions.py:526: RuntimeWarning: invalid value encountered in double_scalars\n",
      "  tau = (\n"
     ]
    },
    {
     "name": "stdout",
     "output_type": "stream",
     "text": [
      "iteration 4:, error=0.5629342642023677, E_var=0.8741321915129793\n",
      "iteration 5:, error=0.5530111091871275, E_var=0.7838983509641327\n",
      "iteration 6:, error=0.5572299627102065, E_var=0.8732537375512023\n",
      "iteration 7:, error=0.2702858958376329, E_var=0.5784036916882112\n"
     ]
    },
    {
     "name": "stderr",
     "output_type": "stream",
     "text": [
      "C:\\Users\\ma516\\Anaconda3\\envs\\BayOpt\\lib\\site-packages\\pymanopt\\optimizers\\trust_regions.py:526: RuntimeWarning: invalid value encountered in double_scalars\n",
      "  tau = (\n",
      "C:\\Users\\ma516\\Anaconda3\\envs\\BayOpt\\lib\\site-packages\\pymanopt\\optimizers\\trust_regions.py:526: RuntimeWarning: invalid value encountered in double_scalars\n",
      "  tau = (\n",
      "C:\\Users\\ma516\\Anaconda3\\envs\\BayOpt\\lib\\site-packages\\pymanopt\\optimizers\\trust_regions.py:526: RuntimeWarning: invalid value encountered in double_scalars\n",
      "  tau = (\n"
     ]
    },
    {
     "name": "stdout",
     "output_type": "stream",
     "text": [
      "iteration 8:, error=0.27028233808612884, E_var=0.5785053662315033\n",
      "iteration 9:, error=0.27028162829786184, E_var=0.5776534357723191\n",
      "iteration 10:, error=0.27027923711611807, E_var=0.5779706364035541\n",
      "iteration 11:, error=0.2702768516625706, E_var=0.5777625463478545\n",
      "iteration 12:, error=0.27028117420236997, E_var=0.5782555331546709\n",
      "iteration 13:, error=0.4228337944647809, E_var=0.6365240293228015\n"
     ]
    },
    {
     "name": "stderr",
     "output_type": "stream",
     "text": [
      "C:\\Users\\ma516\\Anaconda3\\envs\\BayOpt\\lib\\site-packages\\pymanopt\\optimizers\\trust_regions.py:526: RuntimeWarning: invalid value encountered in double_scalars\n",
      "  tau = (\n"
     ]
    },
    {
     "name": "stdout",
     "output_type": "stream",
     "text": [
      "iteration 14:, error=0.5629342642023677, E_var=0.8741314719148996\n",
      "--------------------------------------------------\n",
      "dimension m=1 Expectation of posterior variance on test data: 0.5777625463478545, prediction error r=0.2702768516625706\n"
     ]
    },
    {
     "name": "stderr",
     "output_type": "stream",
     "text": [
      "C:\\Users\\ma516\\Anaconda3\\envs\\BayOpt\\lib\\site-packages\\pymanopt\\optimizers\\trust_regions.py:526: RuntimeWarning: invalid value encountered in double_scalars\n",
      "  tau = (\n"
     ]
    },
    {
     "name": "stdout",
     "output_type": "stream",
     "text": [
      "iteration 0:, error=0.2704873739326723, E_var=0.5756804789256853\n",
      "iteration 1:, error=0.27030194768404864, E_var=0.5802529331494477\n",
      "iteration 2:, error=0.2724360481847021, E_var=0.5832233238893165\n",
      "iteration 3:, error=0.6059206262476259, E_var=0.7227701776334031\n",
      "iteration 4:, error=0.270295291130378, E_var=0.5801237289604059\n"
     ]
    },
    {
     "ename": "KeyboardInterrupt",
     "evalue": "",
     "output_type": "error",
     "traceback": [
      "\u001b[1;31m---------------------------------------------------------------------------\u001b[0m",
      "\u001b[1;31mKeyboardInterrupt\u001b[0m                         Traceback (most recent call last)",
      "Input \u001b[1;32mIn [4]\u001b[0m, in \u001b[0;36m<cell line: 6>\u001b[1;34m()\u001b[0m\n\u001b[0;32m      4\u001b[0m Y \u001b[38;5;241m=\u001b[39m XY_data[\u001b[38;5;124m'\u001b[39m\u001b[38;5;124mY\u001b[39m\u001b[38;5;124m'\u001b[39m]\n\u001b[0;32m      5\u001b[0m BO \u001b[38;5;241m=\u001b[39m BayOpt_GRF(X_normalize, Y, simulation)\n\u001b[1;32m----> 6\u001b[0m grf_all, M_all, gpr_all, r_all, E_eva_all \u001b[38;5;241m=\u001b[39m \u001b[43mBO\u001b[49m\u001b[38;5;241;43m.\u001b[39;49m\u001b[43mtrain_grf\u001b[49m\u001b[43m(\u001b[49m\u001b[43mn_restart\u001b[49m\u001b[38;5;241;43m=\u001b[39;49m\u001b[38;5;241;43m15\u001b[39;49m\u001b[43m,\u001b[49m\u001b[43m \u001b[49m\u001b[43mtol\u001b[49m\u001b[38;5;241;43m=\u001b[39;49m\u001b[38;5;241;43m5e-3\u001b[39;49m\u001b[43m)\u001b[49m\n",
      "File \u001b[1;32m~\\OneDrive - purdue.edu\\Research Projects\\GP Model Calibration\\BayesianOpt-GaussianRidge\\grf_HX\\Scripts\\Python\\BayOpt_GRF.py:66\u001b[0m, in \u001b[0;36mBayOpt_GRF.train_grf\u001b[1;34m(self, n_restart, tol, plotResults)\u001b[0m\n\u001b[0;32m     64\u001b[0m \u001b[38;5;28;01mfor\u001b[39;00m i \u001b[38;5;129;01min\u001b[39;00m \u001b[38;5;28mrange\u001b[39m(\u001b[38;5;241m1\u001b[39m, \u001b[38;5;28mself\u001b[39m\u001b[38;5;241m.\u001b[39mXdata\u001b[38;5;241m.\u001b[39mshape[\u001b[38;5;241m1\u001b[39m]):\n\u001b[0;32m     65\u001b[0m     grf_i \u001b[38;5;241m=\u001b[39m GRF(X_train, X_test, y_train[:,\u001b[38;5;241m0\u001b[39m], y_test[:,\u001b[38;5;241m0\u001b[39m], i, n_restart, tol)\n\u001b[1;32m---> 66\u001b[0m     M_final, gpr_final, r_final, E_var_final \u001b[38;5;241m=\u001b[39m \u001b[43mgrf_i\u001b[49m\u001b[38;5;241;43m.\u001b[39;49m\u001b[43mrun\u001b[49m\u001b[43m(\u001b[49m\u001b[43m)\u001b[49m\n\u001b[0;32m     67\u001b[0m     grf_all\u001b[38;5;241m.\u001b[39mappend(grf_i)\n\u001b[0;32m     68\u001b[0m     M_all\u001b[38;5;241m.\u001b[39mappend(M_final)\n",
      "File \u001b[1;32m~\\OneDrive - purdue.edu\\Research Projects\\GP Model Calibration\\BayesianOpt-GaussianRidge\\grf_HX\\Scripts\\Python\\GRF.py:150\u001b[0m, in \u001b[0;36mGRF.run\u001b[1;34m(self)\u001b[0m\n\u001b[0;32m    148\u001b[0m r_min \u001b[38;5;241m=\u001b[39m np\u001b[38;5;241m.\u001b[39minf\n\u001b[0;32m    149\u001b[0m \u001b[38;5;28;01mfor\u001b[39;00m i \u001b[38;5;129;01min\u001b[39;00m \u001b[38;5;28mrange\u001b[39m(\u001b[38;5;28mself\u001b[39m\u001b[38;5;241m.\u001b[39mn_restart):\n\u001b[1;32m--> 150\u001b[0m     M, gpr, r, n_iter, E_var \u001b[38;5;241m=\u001b[39m \u001b[38;5;28;43mself\u001b[39;49m\u001b[38;5;241;43m.\u001b[39;49m\u001b[43mgrf_fit\u001b[49m\u001b[43m(\u001b[49m\u001b[43m)\u001b[49m;\n\u001b[0;32m    151\u001b[0m     \u001b[38;5;28mprint\u001b[39m(\u001b[38;5;124mf\u001b[39m\u001b[38;5;124m'\u001b[39m\u001b[38;5;124miteration \u001b[39m\u001b[38;5;132;01m{\u001b[39;00mi\u001b[38;5;132;01m}\u001b[39;00m\u001b[38;5;124m:, error=\u001b[39m\u001b[38;5;132;01m{\u001b[39;00mr\u001b[38;5;132;01m}\u001b[39;00m\u001b[38;5;124m, E_var=\u001b[39m\u001b[38;5;132;01m{\u001b[39;00mE_var\u001b[38;5;132;01m}\u001b[39;00m\u001b[38;5;124m'\u001b[39m)\n\u001b[0;32m    152\u001b[0m     \u001b[38;5;28;01mif\u001b[39;00m r \u001b[38;5;241m<\u001b[39m r_min:\n",
      "File \u001b[1;32m~\\OneDrive - purdue.edu\\Research Projects\\GP Model Calibration\\BayesianOpt-GaussianRidge\\grf_HX\\Scripts\\Python\\GRF.py:137\u001b[0m, in \u001b[0;36mGRF.grf_fit\u001b[1;34m(self)\u001b[0m\n\u001b[0;32m    135\u001b[0m problem \u001b[38;5;241m=\u001b[39m Problem(manifold\u001b[38;5;241m=\u001b[39m\u001b[38;5;28mself\u001b[39m\u001b[38;5;241m.\u001b[39mmanifold, cost\u001b[38;5;241m=\u001b[39mmy_cost)\n\u001b[0;32m    136\u001b[0m optimizer \u001b[38;5;241m=\u001b[39m TrustRegions(verbosity\u001b[38;5;241m=\u001b[39m\u001b[38;5;241m0\u001b[39m)\n\u001b[1;32m--> 137\u001b[0m M_new \u001b[38;5;241m=\u001b[39m \u001b[43moptimizer\u001b[49m\u001b[38;5;241;43m.\u001b[39;49m\u001b[43mrun\u001b[49m\u001b[43m(\u001b[49m\u001b[43mproblem\u001b[49m\u001b[43m)\u001b[49m\u001b[38;5;241m.\u001b[39mpoint\n\u001b[0;32m    139\u001b[0m r \u001b[38;5;241m=\u001b[39m my_cost(\u001b[38;5;28mself\u001b[39m\u001b[38;5;241m.\u001b[39mM)\n\u001b[0;32m    140\u001b[0m err \u001b[38;5;241m=\u001b[39m np\u001b[38;5;241m.\u001b[39mabs(last_r \u001b[38;5;241m-\u001b[39m r) \u001b[38;5;241m/\u001b[39m last_r\n",
      "File \u001b[1;32m~\\Anaconda3\\envs\\BayOpt\\lib\\site-packages\\pymanopt\\optimizers\\trust_regions.py:190\u001b[0m, in \u001b[0;36mTrustRegions.run\u001b[1;34m(self, problem, initial_point, mininner, maxinner, Delta_bar, Delta0)\u001b[0m\n\u001b[0;32m    187\u001b[0m         eta \u001b[38;5;241m=\u001b[39m np\u001b[38;5;241m.\u001b[39msqrt(np\u001b[38;5;241m.\u001b[39msqrt(np\u001b[38;5;241m.\u001b[39mspacing(\u001b[38;5;241m1\u001b[39m))) \u001b[38;5;241m*\u001b[39m eta\n\u001b[0;32m    189\u001b[0m \u001b[38;5;66;03m# Solve TR subproblem approximately\u001b[39;00m\n\u001b[1;32m--> 190\u001b[0m eta, Heta, numit, stop_inner \u001b[38;5;241m=\u001b[39m \u001b[38;5;28;43mself\u001b[39;49m\u001b[38;5;241;43m.\u001b[39;49m\u001b[43m_truncated_conjugate_gradient\u001b[49m\u001b[43m(\u001b[49m\n\u001b[0;32m    191\u001b[0m \u001b[43m    \u001b[49m\u001b[43mproblem\u001b[49m\u001b[43m,\u001b[49m\n\u001b[0;32m    192\u001b[0m \u001b[43m    \u001b[49m\u001b[43mx\u001b[49m\u001b[43m,\u001b[49m\n\u001b[0;32m    193\u001b[0m \u001b[43m    \u001b[49m\u001b[43mfgradx\u001b[49m\u001b[43m,\u001b[49m\n\u001b[0;32m    194\u001b[0m \u001b[43m    \u001b[49m\u001b[43meta\u001b[49m\u001b[43m,\u001b[49m\n\u001b[0;32m    195\u001b[0m \u001b[43m    \u001b[49m\u001b[43mDelta\u001b[49m\u001b[43m,\u001b[49m\n\u001b[0;32m    196\u001b[0m \u001b[43m    \u001b[49m\u001b[38;5;28;43mself\u001b[39;49m\u001b[38;5;241;43m.\u001b[39;49m\u001b[43mtheta\u001b[49m\u001b[43m,\u001b[49m\n\u001b[0;32m    197\u001b[0m \u001b[43m    \u001b[49m\u001b[38;5;28;43mself\u001b[39;49m\u001b[38;5;241;43m.\u001b[39;49m\u001b[43mkappa\u001b[49m\u001b[43m,\u001b[49m\n\u001b[0;32m    198\u001b[0m \u001b[43m    \u001b[49m\u001b[43mmininner\u001b[49m\u001b[43m,\u001b[49m\n\u001b[0;32m    199\u001b[0m \u001b[43m    \u001b[49m\u001b[43mmaxinner\u001b[49m\u001b[43m,\u001b[49m\n\u001b[0;32m    200\u001b[0m \u001b[43m\u001b[49m\u001b[43m)\u001b[49m\n\u001b[0;32m    202\u001b[0m srstr \u001b[38;5;241m=\u001b[39m \u001b[38;5;28mself\u001b[39m\u001b[38;5;241m.\u001b[39mTCG_STOP_REASONS[stop_inner]\n\u001b[0;32m    204\u001b[0m \u001b[38;5;66;03m# If using randomized approach, compare result with the Cauchy\u001b[39;00m\n\u001b[0;32m    205\u001b[0m \u001b[38;5;66;03m# point. Convergence proofs assume that we achieve at least (a\u001b[39;00m\n\u001b[0;32m    206\u001b[0m \u001b[38;5;66;03m# fraction of) the reduction of the Cauchy point. After this\u001b[39;00m\n\u001b[0;32m    207\u001b[0m \u001b[38;5;66;03m# if-block, either all eta-related quantities have been changed\u001b[39;00m\n\u001b[0;32m    208\u001b[0m \u001b[38;5;66;03m# consistently, or none of them have.\u001b[39;00m\n",
      "File \u001b[1;32m~\\Anaconda3\\envs\\BayOpt\\lib\\site-packages\\pymanopt\\optimizers\\trust_regions.py:605\u001b[0m, in \u001b[0;36mTrustRegions._truncated_conjugate_gradient\u001b[1;34m(self, problem, x, fgradx, eta, Delta, theta, kappa, mininner, maxinner)\u001b[0m\n\u001b[0;32m    603\u001b[0m zold_rold \u001b[38;5;241m=\u001b[39m z_r\n\u001b[0;32m    604\u001b[0m \u001b[38;5;66;03m# Compute new z'*r.\u001b[39;00m\n\u001b[1;32m--> 605\u001b[0m z_r \u001b[38;5;241m=\u001b[39m \u001b[43minner\u001b[49m\u001b[43m(\u001b[49m\u001b[43mx\u001b[49m\u001b[43m,\u001b[49m\u001b[43m \u001b[49m\u001b[43mz\u001b[49m\u001b[43m,\u001b[49m\u001b[43m \u001b[49m\u001b[43mr\u001b[49m\u001b[43m)\u001b[49m\n\u001b[0;32m    607\u001b[0m \u001b[38;5;66;03m# Compute new search direction\u001b[39;00m\n\u001b[0;32m    608\u001b[0m beta \u001b[38;5;241m=\u001b[39m z_r \u001b[38;5;241m/\u001b[39m zold_rold\n",
      "File \u001b[1;32m~\\Anaconda3\\envs\\BayOpt\\lib\\site-packages\\pymanopt\\manifolds\\stiefel.py:77\u001b[0m, in \u001b[0;36mStiefel.inner_product\u001b[1;34m(self, point, tangent_vector_a, tangent_vector_b)\u001b[0m\n\u001b[0;32m     76\u001b[0m \u001b[38;5;28;01mdef\u001b[39;00m \u001b[38;5;21minner_product\u001b[39m(\u001b[38;5;28mself\u001b[39m, point, tangent_vector_a, tangent_vector_b):\n\u001b[1;32m---> 77\u001b[0m     \u001b[38;5;28;01mreturn\u001b[39;00m \u001b[43mnp\u001b[49m\u001b[38;5;241;43m.\u001b[39;49m\u001b[43mtensordot\u001b[49m\u001b[43m(\u001b[49m\n\u001b[0;32m     78\u001b[0m \u001b[43m        \u001b[49m\u001b[43mtangent_vector_a\u001b[49m\u001b[43m,\u001b[49m\u001b[43m \u001b[49m\u001b[43mtangent_vector_b\u001b[49m\u001b[43m,\u001b[49m\u001b[43m \u001b[49m\u001b[43maxes\u001b[49m\u001b[38;5;241;43m=\u001b[39;49m\u001b[43mtangent_vector_a\u001b[49m\u001b[38;5;241;43m.\u001b[39;49m\u001b[43mndim\u001b[49m\n\u001b[0;32m     79\u001b[0m \u001b[43m    \u001b[49m\u001b[43m)\u001b[49m\n",
      "File \u001b[1;32m<__array_function__ internals>:5\u001b[0m, in \u001b[0;36mtensordot\u001b[1;34m(*args, **kwargs)\u001b[0m\n",
      "File \u001b[1;32m~\\Anaconda3\\envs\\BayOpt\\lib\\site-packages\\numpy\\core\\numeric.py:1132\u001b[0m, in \u001b[0;36mtensordot\u001b[1;34m(a, b, axes)\u001b[0m\n\u001b[0;32m   1130\u001b[0m at \u001b[38;5;241m=\u001b[39m a\u001b[38;5;241m.\u001b[39mtranspose(newaxes_a)\u001b[38;5;241m.\u001b[39mreshape(newshape_a)\n\u001b[0;32m   1131\u001b[0m bt \u001b[38;5;241m=\u001b[39m b\u001b[38;5;241m.\u001b[39mtranspose(newaxes_b)\u001b[38;5;241m.\u001b[39mreshape(newshape_b)\n\u001b[1;32m-> 1132\u001b[0m res \u001b[38;5;241m=\u001b[39m \u001b[43mdot\u001b[49m\u001b[43m(\u001b[49m\u001b[43mat\u001b[49m\u001b[43m,\u001b[49m\u001b[43m \u001b[49m\u001b[43mbt\u001b[49m\u001b[43m)\u001b[49m\n\u001b[0;32m   1133\u001b[0m \u001b[38;5;28;01mreturn\u001b[39;00m res\u001b[38;5;241m.\u001b[39mreshape(olda \u001b[38;5;241m+\u001b[39m oldb)\n",
      "File \u001b[1;32m<__array_function__ internals>:5\u001b[0m, in \u001b[0;36mdot\u001b[1;34m(*args, **kwargs)\u001b[0m\n",
      "\u001b[1;31mKeyboardInterrupt\u001b[0m: "
     ]
    }
   ],
   "source": [
    "data_path = save_path = 'results/chiller/YX_chiller.npz'\n",
    "XY_data = np.load(data_path)\n",
    "X_normalize = XY_data['X_normalize']\n",
    "Y = XY_data['Y']\n",
    "BO = BayOpt_GRF(X_normalize, Y, simulation)\n",
    "grf_all, M_all, gpr_all, r_all, E_eva_all = BO.train_grf(n_restart=15, tol=5e-3)"
   ]
  },
  {
   "cell_type": "markdown",
   "metadata": {},
   "source": [
    "### GRF performance"
   ]
  },
  {
   "cell_type": "code",
   "execution_count": null,
   "metadata": {},
   "outputs": [],
   "source": [
    "dim_final = 3\n",
    "grf_final = grf_all[dim_final]\n",
    "fig, ax = plt.subplots(1, 2, figsize=(16, 5))\n",
    "_x = np.linspace(grf_final.y_train.min(), grf_final.y_train.max())\n",
    "ax[0].plot(_x, _x, 'r--', label='$x=y'$, linewidth=2)\n",
    "ax.plot(grf_final.y_train, grf_final.pred(grf_final.X_train)[:,None])"
   ]
  },
  {
   "cell_type": "code",
   "execution_count": null,
   "metadata": {},
   "outputs": [],
   "source": [
    "\n",
    "    _x = np.linspace( np.min(X_mea), np.max(X_mea), 100 )\n",
    "    ax.plot(_x, _x, 'r--', label='$x=y$')\n",
    "    ax.plot(X_mea, X_pred, 'o')\n",
    "    ax.set_title('Predictions vs Measurements', fontsize=15, fontweight='bold')\n",
    "    ax.set_xlabel('Measured', fontsize=15)\n",
    "    ax.set_ylabel('Predicted', fontsize=15)\n",
    "    ax.tick_params( labelsize=15 )\n",
    "    fig.tight_layout()"
   ]
  },
  {
   "cell_type": "code",
   "execution_count": null,
   "metadata": {},
   "outputs": [],
   "source": []
  }
 ],
 "metadata": {
  "kernelspec": {
   "display_name": "Python 3 (ipykernel)",
   "language": "python",
   "name": "python3"
  },
  "language_info": {
   "codemirror_mode": {
    "name": "ipython",
    "version": 3
   },
   "file_extension": ".py",
   "mimetype": "text/x-python",
   "name": "python",
   "nbconvert_exporter": "python",
   "pygments_lexer": "ipython3",
   "version": "3.9.12"
  }
 },
 "nbformat": 4,
 "nbformat_minor": 2
}
